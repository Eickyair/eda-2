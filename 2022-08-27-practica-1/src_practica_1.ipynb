{
  "cells": [
    {
      "cell_type": "markdown",
      "metadata": {
        "id": "qAwYiv5le2mI"
      },
      "source": [
        "### <code>Bibliotecas</code>"
      ]
    },
    {
      "cell_type": "code",
      "execution_count": null,
      "metadata": {
        "id": "-VhozljKbREx"
      },
      "outputs": [],
      "source": [
        "\"\"\"\n",
        "@authors:\n",
        "  - Anvil.sap\n",
        "  - El milaneso\n",
        "@date:\n",
        "  2022/08/27\n",
        "\"\"\"\n",
        "import random as rdm\n",
        "import sys \n",
        "import matplotlib.pyplot as plt"
      ]
    },
    {
      "cell_type": "code",
      "execution_count": null,
      "metadata": {
        "id": "rCJIzJNrs2QZ"
      },
      "outputs": [],
      "source": [
        "# len: longitud del array que se quiere generar.\n",
        "def mejorCaso(len):\n",
        "  return [i+1 for i in range(len)]\n",
        "def peorCaso(len):\n",
        "  return [len-i for i in range(len)]\n",
        "def casoPromedio(len):\n",
        "  return [rdm.randint(-1000,1000) for i in range(len)]\n",
        "def axsConfg(axs,X,Y,ylabel):\n",
        "  axs.plot(X,Y)\n",
        "  axs.set_ylabel(ylabel)"
      ]
    },
    {
      "cell_type": "markdown",
      "metadata": {
        "id": "mYgWU_K2fFnu"
      },
      "source": [
        "### Casos.\n",
        "- #### Mejor.\n",
        "Para este análisis donde el problema es ordenar un conjunto de datos, el mejor será tener un set ordenado.\n",
        "- #### Peor.\n",
        "El peor será tener nuestro set ordenado de manera inversa pues en teoría esto obliga a que todos los elementos deben ser ordenados y ninguno está en su posición correcta.\n",
        "- #### Promedio.\n",
        "Resulta ser aquel que tiene números pseudo-aleatorios."
      ]
    },
    {
      "cell_type": "markdown",
      "metadata": {
        "id": "bDbb9FllWqGr"
      },
      "source": [
        "# <code>BubbleSort</code><br>\n",
        "Un algoritmo de ordenamiento que utiliza la estrategia \"fuerza bruta\" para ordenar datos numéricos\n",
        "\n",
        "###Análisis"
      ]
    },
    {
      "cell_type": "code",
      "execution_count": null,
      "metadata": {
        "colab": {
          "background_save": true
        },
        "id": "7yWmBkiQvYqB"
      },
      "outputs": [],
      "source": [
        "def burbuja(mi_lista): \n",
        "    arreglo = len(mi_lista)      #5\n",
        "    for i in range(arreglo):      #9(n+1)\n",
        "        for j in range(arreglo - 1):      #8n(n-1)\n",
        "            if mi_lista[j] > mi_lista[j + 1]:      #6n(n-1)\n",
        "                temp = mi_lista[j]      #4n(n-1)\n",
        "                mi_lista[j] = mi_lista[j+1]      #5n(n-1)\n",
        "                mi_lista[j+1] = temp      #5n(n-1)\n"
      ]
    },
    {
      "cell_type": "markdown",
      "metadata": {
        "id": "2F3kLb6wbfcM"
      },
      "source": [
        "## $Polinomios.$\n",
        "- ## Mejor Caso, Peor y Promedio.\n",
        "$$\n",
        "P(n)=28n-19n+14\n",
        "$$\n",
        "En este algoritmo la complejidad no cambia mucho debido a que aunque el arreglo este ordenado o desordenado, tiene que recorrer el arreglo n^2 veces y por lo tanto la complejidad no cambia.\n",
        "$$\n",
        "O(n^2) \\\\\n",
        "\\Omega(n^2) \\\\\n",
        "\\text{Dado que tanto la mejor como la peor complejidad son la misma entonces:} \\\\ \\theta(n^2)\n",
        "$$"
      ]
    },
    {
      "cell_type": "markdown",
      "metadata": {
        "id": "olSTIH7lq8fL"
      },
      "source": [
        "## <code>Plots</code>"
      ]
    },
    {
      "cell_type": "code",
      "execution_count": null,
      "metadata": {
        "id": "52nvVg_ZfLAW"
      },
      "outputs": [],
      "source": [
        "def burbuja_graf(mi_lista): \n",
        "    cont = 0\n",
        "    arreglo = len(mi_lista)\n",
        "    for i in range(arreglo):\n",
        "        for j in range(arreglo - 1):\n",
        "            if mi_lista[j] > mi_lista[j + 1]:\n",
        "                temp = mi_lista[j]\n",
        "                mi_lista[j] = mi_lista[j+1]\n",
        "                mi_lista[j+1] = temp\n",
        "            cont+=1\n",
        "    return cont"
      ]
    },
    {
      "cell_type": "code",
      "execution_count": null,
      "metadata": {
        "colab": {
          "base_uri": "https://localhost:8080/",
          "height": 308
        },
        "id": "bxUkPtjKzcgW",
        "outputId": "2f5df740-6af1-4642-949e-0dd18ef9c757"
      },
      "outputs": [
        {
          "data": {
            "image/png": "[encoded data removed]",
            "text/plain": [
              "<Figure size 432x288 with 3 Axes>"
            ]
          },
          "metadata": {
            "needs_background": "light"
          },
          "output_type": "display_data"
        }
      ],
      "source": [
        "from IPython.core.pylabtools import figsize\n",
        "X = range(1,1000)\n",
        "# Crea un array completamente nuevo para cada x de ahi el tiempo de ejecucion\n",
        "# pero esto muestra la generalidad del algoritmo\n",
        "Y_MC = [burbuja_graf(mejorCaso(x)) for x in X]\n",
        "Y_PC = [burbuja_graf(peorCaso(x)) for x in X]\n",
        "Y_CP = [burbuja_graf(casoPromedio(x)) for x in X]\n",
        "\n",
        "fig, (ax1, ax2, ax3) = plt.subplots(3, 1,sharex=True)\n",
        "fig.suptitle('Plots de cada caso')\n",
        "plt.xlabel(\"Longitud del array\")\n",
        "\n",
        "axsConfg(ax1,X,Y_MC,\"Mejor Caso\")\n",
        "axsConfg(ax2,X,Y_PC,\"Peor Caso\")\n",
        "axsConfg(ax3,X,Y_CP,\"Caso Promedio\")\n",
        "plt.show()"
      ]
    },
    {
      "cell_type": "markdown",
      "metadata": {
        "id": "HdonuPyCVIQp"
      },
      "source": [
        "# <code>MergeSort</code><br>\n",
        "Es algoritmo de ordenamiento bastante famoso que utilizá la estrategia \"divide y vencerás\" para ordenar un conjunto de datos numéricos.\n",
        "### Análisis.\n"
      ]
    },
    {
      "cell_type": "code",
      "execution_count": null,
      "metadata": {
        "id": "AKVBlHVEVMWY"
      },
      "outputs": [],
      "source": [
        "def CrearSubArreglo(A,indIzq,indDer):\n",
        "  return A[indIzq:indDer+1]                     #6\n",
        "def Merge(A,p,q,r):\n",
        "  Izq = CrearSubArreglo(A,p,q)                  #6*1\n",
        "  Der = CrearSubArreglo(A,q+1,r)                #8*1\n",
        "  i = 0     #3\n",
        "  j = 0     #3\n",
        "  for k in range(p,r+1):                                        #8(n+1)\n",
        "    if(j >= len(Der)) or (i < len(Izq) and Izq[i] < Der[j]):    #14n\n",
        "      A[k] = Izq[i]                                             #4n\n",
        "      i = i + 1                                                 #4n\n",
        "    else:                                                       #n\n",
        "      A[k] = Der[j]                                             #4n\n",
        "      j = j + 1                                                 #4n\n",
        "def MergeSort(A,p,r): #log_2(n)\n",
        "  if r - p > 0:             #6log_2(n)\n",
        "    q = int((r+p) / 2)      #7log_2(n)\n",
        "    MergeSort(A,p,q)        #4log_2(n)*log_2(n)\n",
        "    MergeSort(A,q+1,r)      #6log_2(n)*log_2(n)\n",
        "    Merge(A,p,q,r)          #5n*log_2(n)"
      ]
    },
    {
      "cell_type": "markdown",
      "metadata": {
        "id": "B8faqWAqj1lG"
      },
      "source": [
        "## $Polinomios.$\n",
        "- ## Mejor Caso, Peor y Promedio.\n",
        "$$\n",
        "P(n)=5n\\log_2(n)+10(\\log_2(n))^2+13\\log_2(n)\n",
        "$$\n",
        "La razón de que este sea para todos está en que el algoritmo no cambia mucho su comportamiento, <code>mergeSort</code> se llamara una cantidad de veces logarítmica, puesto que lo primero que se hace es seccionar el set. Quizá la que pueda cambiar sea la unión ordenada (<code>merge</code>) pero si hablamos de un set ordenado de manera correcta esta función rescribirá tal cual estaban los datos, la parte izq. seguía siendo la izq. y la der. más de los mismo. Para un set ordenado de manera completamente inversa lo que sucede es curioso, la izq. será la nueva der. y la der. la nueva izq. pero para ambos casos se mantendrá lineal. En un caso aleatorio tomará algunos de la der. o izq. dependiendo de quien sea el menor o si aún quedan en esa mitad.\n",
        "$$\n",
        "O(n\\log_2n) \\\\\n",
        "\\Omega(n\\log_2n) \\\\\n",
        "\\text{Dado que tanto la mejor como la peor complejidad son la misma entonces:} \\\\ \\theta(n\\log_2n)\n",
        "$$"
      ]
    },
    {
      "cell_type": "markdown",
      "metadata": {
        "id": "pB9iI2-wv7Kg"
      },
      "source": [
        "## <code>Plots</code>"
      ]
    },
    {
      "cell_type": "code",
      "execution_count": null,
      "metadata": {
        "id": "vUqsMDgYyGtd"
      },
      "outputs": [],
      "source": [
        "def Merge_graf(A,p,q,r):\n",
        "  cont = 0\n",
        "  Izq = CrearSubArreglo(A,p,q)                  \n",
        "  Der = CrearSubArreglo(A,q+1,r)                \n",
        "  i = 0     \n",
        "  j = 0     \n",
        "  for k in range(p,r+1):                                        \n",
        "    if(j >= len(Der)) or (i < len(Izq) and Izq[i] < Der[j]):    \n",
        "      A[k] = Izq[i]                                             \n",
        "      i = i + 1                                                 \n",
        "    else:                                                       \n",
        "      A[k] = Der[j]                                             \n",
        "      j = j + 1    \n",
        "    cont+=1          \n",
        "  return cont                                   \n",
        "def MergeSort_graf(A,p,r,cont): \n",
        "  if r - p > 0:             \n",
        "    q = int((r+p) / 2)      \n",
        "    cont = MergeSort_graf(A,p,q,cont+1)        \n",
        "    cont = MergeSort_graf(A,q+1,r,cont+1)      \n",
        "    cont += Merge_graf(A,p,q,r)          \n",
        "  return cont\n"
      ]
    },
    {
      "cell_type": "code",
      "execution_count": null,
      "metadata": {
        "colab": {
          "base_uri": "https://localhost:8080/",
          "height": 308
        },
        "id": "LyMv0VWGZLxO",
        "outputId": "953a2704-f95d-4ee1-f04c-856d4aad4b73"
      },
      "outputs": [
        {
          "data": {
            "image/png": "[encoded data removed]",
            "text/plain": [
              "<Figure size 432x288 with 3 Axes>"
            ]
          },
          "metadata": {},
          "output_type": "display_data"
        }
      ],
      "source": [
        "from IPython.core.pylabtools import figsize\n",
        "X = range(1,1001)\n",
        "Y_MC = [MergeSort_graf(mejorCaso(x),0,x-1,0) for x in X]\n",
        "Y_PC = [MergeSort_graf(peorCaso(x),0,x-1,0) for x in X]\n",
        "Y_CP = [MergeSort_graf(casoPromedio(x),0,x-1,0) for x in X]\n",
        "\n",
        "fig, (ax1, ax2, ax3) = plt.subplots(3, 1,sharex=True)\n",
        "fig.suptitle('Plots de cada caso')\n",
        "plt.xlabel(\"Longitud del array\")\n",
        "\n",
        "axsConfg(ax1,X,Y_MC,\"Mejor Caso\")\n",
        "axsConfg(ax2,X,Y_PC,\"Peor Caso\")\n",
        "axsConfg(ax3,X,Y_CP,\"Caso Promedio\")\n",
        "plt.show()"
      ]
    }
  ],
  "metadata": {
    "colab": {
      "collapsed_sections": [],
      "name": "src_practica-1.ipynb",
      "provenance": []
    },
    "kernelspec": {
      "display_name": "Python 3.10.6 64-bit",
      "language": "python",
      "name": "python3"
    },
    "language_info": {
      "name": "python",
      "version": "3.10.6"
    },
    "vscode": {
      "interpreter": {
        "hash": "369f2c481f4da34e4445cda3fffd2e751bd1c4d706f27375911949ba6bb62e1c"
      }
    }
  },
  "nbformat": 4,
  "nbformat_minor": 0
}
