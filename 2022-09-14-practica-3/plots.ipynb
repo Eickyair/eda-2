{
 "cells": [
  {
   "cell_type": "markdown",
   "metadata": {},
   "source": [
    "### <code> Bibliotecas y variables globales</code>"
   ]
  },
  {
   "cell_type": "markdown",
   "metadata": {},
   "source": []
  },
  {
   "cell_type": "code",
   "execution_count": 27,
   "metadata": {},
   "outputs": [],
   "source": [
    "# @authors:\n",
    "#   Anvil.sap            \n",
    "#   El milanesus\n",
    "# @date: 2022/09/11\n",
    "\n",
    "\n",
    "\n",
    "\n",
    "import pandas as pd\n",
    "import matplotlib.pyplot as plt\n",
    "# heapSort\n",
    "I_DF_ORD_DURAC = pd.read_csv(\"./info_ordenada_i_duracion.csv\")\n",
    "DF_ORD_DURA = pd.read_csv(\"./info_ordenada_duracion.csv\")\n",
    "# quickSort\n",
    "DF_ORD_ISRC = pd.read_csv(\"./info_ordenada_isrc.csv\")\n",
    "I_DF_ORD_ISRC = pd.read_csv(\"./info_ordenada_i_isrc.csv\")\n",
    "CASO_PROMEDIO = pd.read_csv(\"./data.csv\")\n",
    "TESTS = 999"
   ]
  },
  {
   "cell_type": "markdown",
   "metadata": {},
   "source": [
    "# <code>Clases</code>"
   ]
  },
  {
   "cell_type": "code",
   "execution_count": 14,
   "metadata": {},
   "outputs": [
    {
     "name": "stdout",
     "output_type": "stream",
     "text": [
      "[4, 12, 34, 48, 49, 9999999999999999]\n"
     ]
    }
   ],
   "source": [
    "class Music:\n",
    "    def __init__(self,data) -> None:\n",
    "        self.trackName = data[0]\n",
    "        self.artist = data[1]\n",
    "        self.album = data[2]\n",
    "        self.isrc = data[3]\n",
    "        self.duration = data[4]\n",
    "        self.date = data [5:]\n",
    "    def __repr__(self) -> str:\n",
    "        str = f\"Track Name: {self.trackName}\\n\"\n",
    "        str+= f\"\\tArtist: {self.artist}\\n\"\n",
    "        str+= f\"\\tAlbum: {self.album}\\n\"\n",
    "        str+= f\"\\tIsrc: {self.isrc}\\n\"\n",
    "        str+= f\"\\tDuration(min): {self.duration}\\n\"\n",
    "        str+= f\"\\tDate: {self.date[0]}/{self.date[1]}/{self.date[2]}\"\n",
    "        return str\n",
    "import math as mt\n",
    "class Sort:\n",
    "    def __init__(self,compare=None) -> None:\n",
    "        self.compare = compare\n",
    "        self.math = mt\n",
    "        self.cont = 0\n",
    "    def countingSort(self,A):\n",
    "        i=0\n",
    "        C = [0 for _ in range(max(A)+1)]\n",
    "        \"\"\"\n",
    "        Aqui estamos contando y generando cuantos elementos hay \n",
    "        \"\"\"\n",
    "        while i < len(A):\n",
    "            C[A[i]] = C[A[i]] + 1\n",
    "            i+=1\n",
    "        i=1\n",
    "        while i<len(C):\n",
    "            C[i]=C[i]+C[i-1]\n",
    "            i+=1\n",
    "        i=0\n",
    "        B = [0 for _ in range(len(A))]\n",
    "        while i < len(A):\n",
    "            B[C[A[i]]-1]=A[i]\n",
    "            C[A[i]]=C[A[i]]-1\n",
    "            i+=1\n",
    "        return B\n",
    "\n",
    "    def radixSort(self,intList):\n",
    "        \"\"\"\n",
    "        1 -> buscar el elemento mas grande de todos\n",
    "        2 -> construir los buckets que sera una matriz n*base\n",
    "        3 -> iterar l veces donde l es la longitud de la reprentacion en str del maximo\n",
    "            3.1 -> recorrer toda la lista y obtener su digito menos significativo\n",
    "            3.2 -> meter el numero actual en la columna con el indice igual a su digito menos significativo\n",
    "            3.3 -> iterar sobre la matriz desde 0 a 9 para ir sacando los numeros y colarlos en ese orden\n",
    "\n",
    "\n",
    "\n",
    "        [12,49,4,34,48] i=0     2\n",
    "\n",
    "        2,9,4,4,8\n",
    "        [12,4,34,48,49] i=1\n",
    "        1,0,3,4,4\n",
    "        matriz\n",
    "        [[4],[12],[34],[48,49],[],[],[],[],[],[]]\n",
    "        [4,12,34,48,49]i=2\n",
    "\n",
    "\n",
    "\n",
    "\n",
    "        [12,4,34,48,49] mx=2 i=1\n",
    "            j=0 n=5\n",
    "        [1,1,1]\n",
    "        [[],[],[],[],[],[],[],[],[],[]]\n",
    "        \"\"\"\n",
    "        maxDigits = len(str(max(intList)))                      #k = maxDigits \n",
    "        i=0                                                     #3\n",
    "        buckets = [[] for _ in range(10)]                       #6\n",
    "        while i < maxDigits:                                    #4(k+1)\n",
    "            j=0                                                 #3k\n",
    "            while j < len(intList):                             #5k(n+1)\n",
    "                digit = (intList[j] % 10**(i+1)) // 10**i       #11kn\n",
    "                buckets[digit].append(intList[j])               #5kn\n",
    "                j+=1                                            #4kn\n",
    "            k=0                                                 #3k\n",
    "            intList=[]                                          #2k\n",
    "            while k < 10:                                       #4k*11\n",
    "                while len(buckets[k])!=0:                       #5k10(n+1)\n",
    "                    intList.append(buckets[k].pop(0))           #6kn\n",
    "                k+=1                                            #4kn\n",
    "            i+=1                                                #4k\n",
    "        return intList                                          #2\n",
    "#P(k,n) = \n",
    "#O(kn)\n",
    "\n",
    "\n",
    "\n",
    "\"\"\"\n",
    "[3,2,1]->A\n",
    "C=[0,1,1,1]\n",
    "[0,0,1,2]->C\n",
    "B->[1,2,3]   B[C[A[i]]-1]=A[i]\n",
    "\n",
    "\n",
    "\n",
    "[1,1,1]->A\n",
    "[0,3]->C\n",
    "[0,0]\n",
    "B[1,1,1]\n",
    "\"\"\"\n",
    "\n",
    "\n",
    "\n",
    "l=[12,4,34,48,49]\n",
    "l=Sort().radixSort(l)\n",
    "print(l)\n",
    "\n",
    "\n"
   ]
  },
  {
   "cell_type": "code",
   "execution_count": 7,
   "metadata": {},
   "outputs": [
    {
     "name": "stdout",
     "output_type": "stream",
     "text": [
      "4\n"
     ]
    }
   ],
   "source": [
    "print(4%10)"
   ]
  },
  {
   "cell_type": "markdown",
   "metadata": {},
   "source": [
    "# <code>Counting Sort</code>\n",
    "## Analisis de Complejidad Algoritmica."
   ]
  },
  {
   "cell_type": "code",
   "execution_count": null,
   "metadata": {},
   "outputs": [],
   "source": [
    "#codigo "
   ]
  },
  {
   "cell_type": "markdown",
   "metadata": {},
   "source": [
    "# <code>BucketSort</code>\n",
    "## Analisis de Complejidad Algoritmitca."
   ]
  },
  {
   "cell_type": "markdown",
   "metadata": {},
   "source": []
  },
  {
   "cell_type": "markdown",
   "metadata": {},
   "source": []
  }
 ],
 "metadata": {
  "kernelspec": {
   "display_name": "Python 3.9.12 ('base')",
   "language": "python",
   "name": "python3"
  },
  "language_info": {
   "codemirror_mode": {
    "name": "ipython",
    "version": 3
   },
   "file_extension": ".py",
   "mimetype": "text/x-python",
   "name": "python",
   "nbconvert_exporter": "python",
   "pygments_lexer": "ipython3",
   "version": "3.9.12"
  },
  "orig_nbformat": 4,
  "vscode": {
   "interpreter": {
    "hash": "ad2bdc8ecc057115af97d19610ffacc2b4e99fae6737bb82f5d7fb13d2f2c186"
   }
  }
 },
 "nbformat": 4,
 "nbformat_minor": 2
}
