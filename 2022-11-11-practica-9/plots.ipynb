{
 "cells": [
  {
   "cell_type": "code",
   "execution_count": 1,
   "metadata": {},
   "outputs": [],
   "source": [
    "import matplotlib.pyplot as plt\n",
    "import traceback\n",
    "from random import randint\n",
    "TEST = 1000\n",
    "\n",
    "def peorCaso(n):\n",
    "    l =  list(range(n,0,-1))\n",
    "    return l"
   ]
  },
  {
   "cell_type": "code",
   "execution_count": 2,
   "metadata": {},
   "outputs": [],
   "source": [
    "class Nodo:\n",
    "    def __init__(self,t):\n",
    "        self.hijos = list()\n",
    "        self.llaves = list()\n",
    "        self.hoja=1\n",
    "        self.n=0\n",
    "        for k in range (2*t) :\n",
    "            self.llaves.append( [None])\n",
    "        for k in range (2*t+1):\n",
    "            self.hijos.append( [None])"
   ]
  },
  {
   "cell_type": "code",
   "execution_count": 3,
   "metadata": {},
   "outputs": [],
   "source": [
    "class ArbolB:\n",
    "    def __init__(self,gradoMinimo) -> None:\n",
    "        self.t = gradoMinimo\n",
    "        self.raiz = None\n",
    "        self.contT = 0\n",
    "        self.contE = 0\n",
    "\n",
    "    def bTreeCreate(self):  #O(1)\n",
    "        if self.raiz == None:\n",
    "            self.raiz = Nodo(self.t)\n",
    "        return self.raiz\n",
    "\n",
    "    def bTreeSplitShild (self, x,i):    #O(C_Max = d)\n",
    "        z=Nodo(self.t)\n",
    "        y= x.hijos[i]\n",
    "        z.hoja = y.hoja\n",
    "        z.n=self.t-1\n",
    "        for j in range (1, self.t):\n",
    "            z.llaves[j]=y.llaves[j+self.t]\n",
    "            y.llaves[j+self.t]=None\n",
    "        if y.hoja==0:\n",
    "            for j in range(1, self.t+1):\n",
    "                z.hijos[j]=y.hijos[j+self.t]\n",
    "                y.hijos[j+self.t]=None\n",
    "        y.n=self.t-1\n",
    "        for j in range (x.n+1,i,-1):\n",
    "            x.hijos[j+1]=x.hijos[j]\n",
    "\n",
    "        x.hijos[i+1]=z\n",
    "\n",
    "        for j in range (x.n,i-1,-1):\n",
    "            x.llaves[j+1]=x.llaves [j]\n",
    "        x.llaves[i]=y.llaves[self.t]\n",
    "        y.llaves [self.t]=None\n",
    "        x.n=x.n+1\n",
    "\n",
    "    def bTreeInsertNonFull(self,x,k):       #O(log_2d(n))\n",
    "        self.contT +=1\n",
    "        i=x.n\n",
    "        if x.hoja == 1:     #Condición de paro\n",
    "            #insertar ordenadamente\n",
    "            while(i>=1) and (k<x.llaves[i]):\n",
    "                x.llaves[i+1] = x.llaves[i]\n",
    "                i=i-1\n",
    "            x.llaves[i+1]=k\n",
    "            x.n =x.n+1\n",
    "        else:\n",
    "            while(i>=1) and (k<x.llaves[i]):\n",
    "                i=i-1\n",
    "            i=i+1\n",
    "            if x.hijos[i].n == 2*self.t-1:\n",
    "                self.bTreeSplitShild(x,i)           #O(C_max = d)\n",
    "                if k > x.llaves[i]:\n",
    "                    i=i+1\n",
    "            self.contE+=1\n",
    "            self.bTreeInsertNonFull(x.hijos[i],k)           #Llamada recursiva\n",
    "\n",
    "\n",
    "    def bTreeInsert(self,k):\n",
    "        r = self.raiz\n",
    "        if r.n == 2*self.t-1:\n",
    "            s=Nodo(self.t)\n",
    "            self.raiz = s\n",
    "            s.hoja = 0\n",
    "            s.n = 0\n",
    "            s.hijos[1]=r\n",
    "            self.bTreeSplitShild(s,1)\n",
    "            self.bTreeInsertNonFull(s,k)        #O(log_2d)\n",
    "        else:\n",
    "            self.bTreeInsertNonFull(r,k)        #O(log_2d)\n",
    "\n",
    "\n",
    "    def imprimeNodo(self,node,altura):\n",
    "        if self.raiz == None:\n",
    "            return\n",
    "\n",
    "        s = \"\".join([\"\\t\" for _ in range(altura)])\n",
    "        for i in range(2*self.t):\n",
    "            llave = node.llaves[i]\n",
    "            if llave == [None] or llave==None:\n",
    "                continue\n",
    "            x = str(llave)\n",
    "            # print(s+x)\n",
    "        if node.hoja == 1:\n",
    "            return\n",
    "        for i in range(2*self.t+1):\n",
    "            hijo = node.hijos[i]\n",
    "            if hijo == [None] or hijo == None:\n",
    "                continue\n",
    "            self.imprimeNodo(hijo,altura+1)"
   ]
  },
  {
   "cell_type": "markdown",
   "metadata": {},
   "source": [
    "### Peor caso\n",
    "El peor caso de complejidad es cuando el valor que deseamos insertar dentro de nuestro árbol le corresponde un nodo hoja ya que es la forma en que mayores saltos entre nodos.\n",
    "$$\\mathcal{O}(\\log_{2d-1}(n))$$"
   ]
  },
  {
   "cell_type": "code",
   "execution_count": 4,
   "metadata": {},
   "outputs": [
    {
     "data": {
      "text/plain": [
       "Text(0, 0.5, 'Iteraciones')"
      ]
     },
     "execution_count": 4,
     "metadata": {},
     "output_type": "execute_result"
    },
    {
     "data": {
      "image/png": "[encoded data removed]",
      "text/plain": [
       "<Figure size 432x288 with 1 Axes>"
      ]
     },
     "metadata": {
      "needs_background": "light"
     },
     "output_type": "display_data"
    }
   ],
   "source": [
    "X = range(TEST)\n",
    "pC = peorCaso(TEST)\n",
    "bt = ArbolB(4)\n",
    "bt.bTreeCreate()\n",
    "Y = []\n",
    "for valor in pC:\n",
    "    bt.bTreeInsert(valor)\n",
    "    Y.append(bt.contT)\n",
    "    bt.contT = 0\n",
    "    \n",
    "plt.plot(X,Y)\n",
    "plt.xlabel(\"Numero de nodos en el árbol\")\n",
    "plt.ylabel(\"Iteraciones\")"
   ]
  },
  {
   "cell_type": "markdown",
   "metadata": {},
   "source": [
    "El uso principal de los arboles b es porque su altura suele ser muy baja por la cantidad de información\n",
    "ion que guarda en cada nodo es mucho mayor que en un árbol binario, esto permite que los accesos a memoria se reduzcan.\n",
    "##### ¿Por que iterar sobre las llaves de de nodo se considera como de complejidad $d$ o lineal?\n",
    "Lo cierto es que $d$ es un valor constante, si nuestro árbol a lo largo de tiempo aumentara el valor de este entonces habría que considerarlo pero este violaría una de la reglas que se tienen a la hora de querer implementar esta estructura."
   ]
  },
  {
   "cell_type": "markdown",
   "metadata": {},
   "source": [
    "# Complejidad Espacial\n",
    "### Peor Caso\n",
    "Dado que estamos ante una función recursiva existe un consumo de memoria por cada llamada pues esta se coloca en la pila de llamadas. El caso en el que la pila se ve mas saturada es cuando el valor se inserta en una hoja puesto que para ir bajando en el árbol hay que hacer una llamada para pasar al siguiente nivel.\n",
    "$$\\mathcal{O}(\\log_{2d-1}(n))$$\n"
   ]
  },
  {
   "cell_type": "code",
   "execution_count": 5,
   "metadata": {},
   "outputs": [
    {
     "data": {
      "text/plain": [
       "Text(0, 0.5, 'Memoria')"
      ]
     },
     "execution_count": 5,
     "metadata": {},
     "output_type": "execute_result"
    },
    {
     "data": {
      "image/png": "[encoded data removed]",
      "text/plain": [
       "<Figure size 432x288 with 1 Axes>"
      ]
     },
     "metadata": {
      "needs_background": "light"
     },
     "output_type": "display_data"
    }
   ],
   "source": [
    "X = range(TEST)\n",
    "pC = peorCaso(TEST)\n",
    "bt = ArbolB(4)\n",
    "bt.bTreeCreate()\n",
    "Y = []\n",
    "for valor in pC:\n",
    "    bt.bTreeInsert(valor)\n",
    "    Y.append(bt.contE)\n",
    "    bt.contE = 0\n",
    "plt.plot(X,Y)\n",
    "plt.xlabel(\"Numero de nodos en el árbol\")\n",
    "plt.ylabel(\"Memoria\")"
   ]
  }
 ],
 "metadata": {
  "kernelspec": {
   "display_name": "Python 3.9.12 ('base')",
   "language": "python",
   "name": "python3"
  },
  "language_info": {
   "codemirror_mode": {
    "name": "ipython",
    "version": 3
   },
   "file_extension": ".py",
   "mimetype": "text/x-python",
   "name": "python",
   "nbconvert_exporter": "python",
   "pygments_lexer": "ipython3",
   "version": "3.9.12"
  },
  "orig_nbformat": 4,
  "vscode": {
   "interpreter": {
    "hash": "ad2bdc8ecc057115af97d19610ffacc2b4e99fae6737bb82f5d7fb13d2f2c186"
   }
  }
 },
 "nbformat": 4,
 "nbformat_minor": 2
}
