{
 "cells": [
  {
   "cell_type": "code",
   "execution_count": 14,
   "metadata": {},
   "outputs": [],
   "source": [
    "from pandas import read_csv\n",
    "import matplotlib.pyplot as plt\n",
    "import traceback"
   ]
  },
  {
   "cell_type": "code",
   "execution_count": 15,
   "metadata": {},
   "outputs": [],
   "source": [
    "class RegisterUser():\n",
    "    def __init__(self,email:str,password:str) -> None:\n",
    "        self.__exceptionsToInit(email,password)\n",
    "\n",
    "        self.email:str = email\n",
    "        self.password:str = password\n",
    "\n",
    "    def __exceptionsToInit(self,email:str,password:str):\n",
    "        if type(email) != type(\"\"):\n",
    "            raise TypeError('The parameter email must be a string')\n",
    "        if len(email) == 0:\n",
    "            raise ValueError('The email is an empty string')\n",
    "        if type(password) != type(\"\"):\n",
    "            raise TypeError('The parameter password must be a string')\n",
    "        if len(password) == 0:\n",
    "            raise ValueError('The password is an empty string')\n",
    "\n",
    "\n",
    "    def __str__(self) -> str:\n",
    "        return \"USER:\"+self.email+\"\\n\\t\"+self.password+\"\\n\"\n",
    "    def __repr__(self) -> str:\n",
    "        return self.__str__()"
   ]
  },
  {
   "cell_type": "code",
   "execution_count": 16,
   "metadata": {},
   "outputs": [],
   "source": [
    "class DbConnectionUsr():\n",
    "    def __init__(self,pathDbUsers:str) -> None:\n",
    "        if type(pathDbUsers) != type(\"\"):\n",
    "            raise TypeError('The parameter pathDb must be a str')\n",
    "        if len(pathDbUsers) == 0:\n",
    "            raise TypeError('The path is an empty string')\n",
    "        self.__pathDbUsers:str = pathDbUsers\n",
    "\n",
    "    def getUsers(self):\n",
    "        users = []\n",
    "        db = read_csv(self.__pathDbUsers)\n",
    "        emails = db['email'].to_list()\n",
    "        passwords = db['password'].to_list()\n",
    "        i= 0\n",
    "        while i < len(emails):\n",
    "            email = emails[i]\n",
    "            password = passwords[i]\n",
    "            u = RegisterUser(email,password)\n",
    "            users.append(u)\n",
    "            i+=1\n",
    "        return users"
   ]
  },
  {
   "cell_type": "code",
   "execution_count": 17,
   "metadata": {},
   "outputs": [],
   "source": [
    "class NodeTreeUsers():\n",
    "    def __init__(self,user:RegisterUser) -> None:\n",
    "        if type(user) != type(RegisterUser('a','a')):\n",
    "            raise TypeError('User must be RegisterUser')\n",
    "        self.user:RegisterUser = user\n",
    "        self.parent:NodeTreeUsers = None\n",
    "        self.left:NodeTreeUsers = None\n",
    "        self.right:NodeTreeUsers = None"
   ]
  },
  {
   "cell_type": "code",
   "execution_count": 36,
   "metadata": {},
   "outputs": [],
   "source": [
    "class BinaryTree():\n",
    "    def __init__(self) -> None:\n",
    "        self.__root:NodeTreeUsers = None\n",
    "        self.cont = 0\n",
    "        self.contE = 1\n",
    "\n",
    "    def insertUser(self,user:RegisterUser):\n",
    "        if self.__root == None:\n",
    "            self.__root = NodeTreeUsers(user)\n",
    "            self.__root.parent = None\n",
    "            return True\n",
    "        self.__insertUser(self.__root,user)\n",
    "\n",
    "\n",
    "    def __insertUser(self,node:NodeTreeUsers,user:RegisterUser):\n",
    "        if user.email < node.user.email:\n",
    "            if node.left is None:\n",
    "                node.left = NodeTreeUsers(user)\n",
    "                # node.left.parent = node\n",
    "                return True\n",
    "            self.__insertUser(node.left,user)\n",
    "        else:\n",
    "            if node.right is None:\n",
    "                node.right = NodeTreeUsers(user)\n",
    "                # node.right.parent=node\n",
    "                return True\n",
    "            self.__insertUser(node.right,user)\n",
    "\n",
    "\n",
    "    def build(self,listOfUsers:list):\n",
    "        for register in listOfUsers:\n",
    "            self.insertUser(register)\n",
    "        return True\n",
    "\n",
    "    def in_order(self):\n",
    "        if self.__root == None:         #5\n",
    "            self.cont=1\n",
    "            self.contE = 1\n",
    "            return None                 #2\n",
    "        self.__in_order(self.__root)    #n\n",
    "    #P(n) = n+7\n",
    "    def __in_order(self,node:NodeTreeUsers): #n\n",
    "        self.cont+=1\n",
    "        if node == None:                        #4n\n",
    "            x = len(traceback.extract_stack())\n",
    "            self.contE = max(self.contE,x)\n",
    "            return                              #1n\n",
    "        self.__in_order(node.left)              #4n\n",
    "        # print(node.user)\n",
    "        self.__in_order(node.right)             #4n\n",
    "    #P(n)=13n\n",
    "    def pre_order(self):\n",
    "        if self.__root == None:                 #5\n",
    "            self.cont = 1\n",
    "            self.contE = 1\n",
    "            return None                         #2\n",
    "        self.__pre_order(self.__root)           #n\n",
    "    #P(n)=n+7\n",
    "    def __pre_order(self,node:NodeTreeUsers):\n",
    "        self.cont+=1\n",
    "        if node == None:                        #4n\n",
    "            x = len(traceback.extract_stack())\n",
    "            self.contE = max(self.contE,x)\n",
    "            return                              #1n\n",
    "        # print(node.user)\n",
    "        self.__pre_order(node.left)             #4n\n",
    "        self.__pre_order(node.right)            #4n\n",
    "    #P(n)=13n\n",
    "    def post_order(self):\n",
    "        if self.__root == None:             #5\n",
    "            self.cont = 1\n",
    "            self.contE=1\n",
    "            return None                     #2\n",
    "        self.__post_order(self.__root)      #n\n",
    "    #P(n)=n+7\n",
    "    def __post_order(self,node:NodeTreeUsers):      #n\n",
    "        self.cont+=1\n",
    "        if node == None:                       #4n\n",
    "            x = len(traceback.extract_stack())\n",
    "            self.contE = max(self.contE,x)\n",
    "            return                             #1n\n",
    "        self.__post_order(node.left)           #4n\n",
    "        self.__post_order(node.right)          #4n\n",
    "        # print(node.user)\n",
    "    #P(n)=13n\n"
   ]
  },
  {
   "cell_type": "code",
   "execution_count": 37,
   "metadata": {},
   "outputs": [],
   "source": [
    "def worstCaseE(i):\n",
    "    import string\n",
    "    l = string.ascii_letters\n",
    "    return \"\".join([l[k%len(l)] for k in range(i)])\n"
   ]
  },
  {
   "cell_type": "code",
   "execution_count": 20,
   "metadata": {},
   "outputs": [],
   "source": [
    "db = DbConnectionUsr('./users.csv')\n",
    "users = db.getUsers()"
   ]
  },
  {
   "cell_type": "markdown",
   "metadata": {},
   "source": [
    "# Complejidad Temporal"
   ]
  },
  {
   "cell_type": "markdown",
   "metadata": {},
   "source": [
    "# Recorrido in_order\n",
    "### Mejor Caso, Peor Caso y Caso promedio\n",
    "El algoritmo <code>in_order</code> visita todo los nodos en nuestro árbol profundizando siempre en la rama mas izquierda, luego regresa a la raíz y al final va a la rama derecha por lo que si $n$ representa la cantidad de nodos que constituyen nuestro árbol binario entonces la complejidad de este algoritmo quedo en función de los nodos que hay a visitar por lo tanto, $n$ sera nuestra complejidad para cualquier caso pues no importa la forma del árbol, solo la cantidad de nodos.\n",
    "$$\\mathcal{O}(n)$$"
   ]
  },
  {
   "cell_type": "code",
   "execution_count": 22,
   "metadata": {},
   "outputs": [
    {
     "data": {
      "text/plain": [
       "Text(0.5, 0, 'Numero de nodos')"
      ]
     },
     "execution_count": 22,
     "metadata": {},
     "output_type": "execute_result"
    },
    {
     "data": {
      "image/png": "[encoded data removed]",
      "text/plain": [
       "<Figure size 432x288 with 1 Axes>"
      ]
     },
     "metadata": {
      "needs_background": "light"
     },
     "output_type": "display_data"
    }
   ],
   "source": [
    "X = range(300)\n",
    "Y = []\n",
    "for i in X:\n",
    "    t = BinaryTree()\n",
    "    t.build(users[:i])\n",
    "    t.in_order()\n",
    "    Y.append(t.cont)\n",
    "plt.plot(X,Y)\n",
    "plt.ylabel('Operaciones realizadas')\n",
    "plt.xlabel('Numero de nodos')"
   ]
  },
  {
   "cell_type": "markdown",
   "metadata": {},
   "source": [
    "La relación es de 1 a 2 porque la función entra a $n$ subarboles vacíos,por ejemplo, las hojas y nodos intermedios incompletos."
   ]
  },
  {
   "cell_type": "markdown",
   "metadata": {},
   "source": [
    "# Recorrido pre_order\n",
    "### Mejor Caso, Peor Caso y Caso promedio\n",
    "El algoritmo <code>pre_order</code> cumple con la misma tarea que <code>in_order</code> visita todo los nodos del árbol pero imprimiendo la raíz antes, luego la rama izquierda y al final la derecha.De igual forma $n$ sera su complejidad pues pasara por cada uno de nuestros nodos en el árbol binario.\n",
    "$$\\mathcal{O}(n)$$"
   ]
  },
  {
   "cell_type": "code",
   "execution_count": 23,
   "metadata": {},
   "outputs": [
    {
     "data": {
      "text/plain": [
       "Text(0.5, 0, 'Numero de nodos')"
      ]
     },
     "execution_count": 23,
     "metadata": {},
     "output_type": "execute_result"
    },
    {
     "data": {
      "image/png": "[encoded data removed]",
      "text/plain": [
       "<Figure size 432x288 with 1 Axes>"
      ]
     },
     "metadata": {
      "needs_background": "light"
     },
     "output_type": "display_data"
    }
   ],
   "source": [
    "X = range(300)\n",
    "Y = []\n",
    "for i in X:\n",
    "    t = BinaryTree()\n",
    "    t.build(users[:i])\n",
    "    t.pre_order()\n",
    "    Y.append(t.cont)\n",
    "plt.plot(X,Y)\n",
    "plt.ylabel('Operaciones realizadas')\n",
    "plt.xlabel('Numero de nodos')"
   ]
  },
  {
   "cell_type": "markdown",
   "metadata": {},
   "source": [
    "# Recorrido post_order\n",
    "### Mejor Caso, Peor Caso y Caso promedio\n",
    "El algoritmo <code>post_order</code> cumple con la misma tarea que los dos anteriores algoritmos pero imprimiendo al final la raíz.\n",
    "$$\\mathcal{O}(n)$$"
   ]
  },
  {
   "cell_type": "code",
   "execution_count": 24,
   "metadata": {},
   "outputs": [
    {
     "data": {
      "text/plain": [
       "Text(0.5, 0, 'Numero de nodos')"
      ]
     },
     "execution_count": 24,
     "metadata": {},
     "output_type": "execute_result"
    },
    {
     "data": {
      "image/png": "[encoded data removed]",
      "text/plain": [
       "<Figure size 432x288 with 1 Axes>"
      ]
     },
     "metadata": {
      "needs_background": "light"
     },
     "output_type": "display_data"
    }
   ],
   "source": [
    "X = range(300)\n",
    "Y = []\n",
    "for i in X:\n",
    "    t = BinaryTree()\n",
    "    t.build(users[:i])\n",
    "    t.post_order()\n",
    "    Y.append(t.cont)\n",
    "plt.plot(X,Y)\n",
    "plt.ylabel('Operaciones realizadas')\n",
    "plt.xlabel('Numero de nodos')"
   ]
  },
  {
   "cell_type": "markdown",
   "metadata": {},
   "source": [
    "# Complejidad Espacial."
   ]
  },
  {
   "cell_type": "markdown",
   "metadata": {},
   "source": [
    "# In_order\n",
    "## Peor caso\n",
    "Considerando que las llamadas a fundiciones tienen un costo espacial, el peor caso sera cuando solo se desarrolle un rama, es decir, tengamos un árbol degenerado. La razón es que en la pila no se estará liberando pues hay un único nodo hoja pero para llegar a el tenemos que pasar por los $n$ nodos que tenga nuestro árbol.\n",
    "$$Space(n)$$"
   ]
  },
  {
   "cell_type": "code",
   "execution_count": 27,
   "metadata": {},
   "outputs": [
    {
     "data": {
      "text/plain": [
       "[<matplotlib.lines.Line2D at 0x27ea2b9df70>]"
      ]
     },
     "execution_count": 27,
     "metadata": {},
     "output_type": "execute_result"
    },
    {
     "data": {
      "image/png": "[encoded data removed]",
      "text/plain": [
       "<Figure size 432x288 with 1 Axes>"
      ]
     },
     "metadata": {
      "needs_background": "light"
     },
     "output_type": "display_data"
    }
   ],
   "source": [
    "X = range(250)\n",
    "t = BinaryTree()\n",
    "Y = []\n",
    "for i in X:\n",
    "    e = worstCaseE(i+1)\n",
    "    r = RegisterUser(e,\"p\")\n",
    "    t.insertUser(r)\n",
    "    t.in_order()\n",
    "    Y.append(t.contE)\n",
    "    t.contE = 0\n",
    "plt.xlabel(\"Numero de nodos\")\n",
    "plt.ylabel(\"Longitud de la pila de llamadas\")\n",
    "plt.plot(X,Y)"
   ]
  },
  {
   "cell_type": "markdown",
   "metadata": {},
   "source": [
    "## Mejor caso y caso promedio\n",
    "En el mejor y promedio nuestro nodo estará en algún camino del árbol pero estos caminos, siempre y cuando el árbol sea balanceado, tendrán una longitud logarítmica base 2. Considerando que la pila se llena como máximo cuando se llega una hoja entonces la complejidad espacial es logarítmica.\n",
    "$$\\log_2(n)$$"
   ]
  },
  {
   "cell_type": "code",
   "execution_count": 34,
   "metadata": {},
   "outputs": [
    {
     "data": {
      "text/plain": [
       "[<matplotlib.lines.Line2D at 0x27ea2e24fa0>]"
      ]
     },
     "execution_count": 34,
     "metadata": {},
     "output_type": "execute_result"
    },
    {
     "data": {
      "image/png": "[encoded data removed]",
      "text/plain": [
       "<Figure size 432x288 with 1 Axes>"
      ]
     },
     "metadata": {
      "needs_background": "light"
     },
     "output_type": "display_data"
    }
   ],
   "source": [
    "X = range(250)\n",
    "Y = []\n",
    "t = BinaryTree()\n",
    "users = db.getUsers()\n",
    "for i in X:\n",
    "    t.insertUser(users[i])\n",
    "    t.in_order()\n",
    "    Y.append(t.contE)\n",
    "    t.contE = 0\n",
    "plt.plot(X,Y)"
   ]
  },
  {
   "cell_type": "markdown",
   "metadata": {},
   "source": [
    "# Pre order\n",
    "## Peor caso"
   ]
  },
  {
   "cell_type": "code",
   "execution_count": 30,
   "metadata": {},
   "outputs": [
    {
     "data": {
      "text/plain": [
       "[<matplotlib.lines.Line2D at 0x27ea2d07d00>]"
      ]
     },
     "execution_count": 30,
     "metadata": {},
     "output_type": "execute_result"
    },
    {
     "data": {
      "image/png": "[encoded data removed]",
      "text/plain": [
       "<Figure size 432x288 with 1 Axes>"
      ]
     },
     "metadata": {
      "needs_background": "light"
     },
     "output_type": "display_data"
    }
   ],
   "source": [
    "X = range(250)\n",
    "t = BinaryTree()\n",
    "Y = []\n",
    "for i in X:\n",
    "    e = worstCaseE(i+1)\n",
    "    r = RegisterUser(e,\"p\")\n",
    "    t.insertUser(r)\n",
    "    t.pre_order()\n",
    "    Y.append(t.contE)\n",
    "    t.contE = 0\n",
    "plt.xlabel(\"Numero de nodos\")\n",
    "plt.ylabel(\"Longitud de la pila de llamadas\")\n",
    "plt.plot(X,Y)"
   ]
  },
  {
   "cell_type": "markdown",
   "metadata": {},
   "source": [
    "## Mejor y caso promedio"
   ]
  },
  {
   "cell_type": "code",
   "execution_count": 38,
   "metadata": {},
   "outputs": [
    {
     "data": {
      "text/plain": [
       "[<matplotlib.lines.Line2D at 0x27ea2e73250>]"
      ]
     },
     "execution_count": 38,
     "metadata": {},
     "output_type": "execute_result"
    },
    {
     "data": {
      "image/png": "[encoded data removed]",
      "text/plain": [
       "<Figure size 432x288 with 1 Axes>"
      ]
     },
     "metadata": {
      "needs_background": "light"
     },
     "output_type": "display_data"
    }
   ],
   "source": [
    "X = range(250)\n",
    "Y = []\n",
    "t = BinaryTree()\n",
    "users = db.getUsers()\n",
    "for i in X:\n",
    "    t.insertUser(users[i])\n",
    "    t.pre_order()\n",
    "    Y.append(t.contE)\n",
    "    t.contE = 0\n",
    "plt.plot(X,Y)"
   ]
  },
  {
   "cell_type": "markdown",
   "metadata": {},
   "source": [
    "# Post order\n",
    "## Peor caso"
   ]
  },
  {
   "cell_type": "code",
   "execution_count": 32,
   "metadata": {},
   "outputs": [
    {
     "data": {
      "text/plain": [
       "[<matplotlib.lines.Line2D at 0x27ea2dd7430>]"
      ]
     },
     "execution_count": 32,
     "metadata": {},
     "output_type": "execute_result"
    },
    {
     "data": {
      "image/png": "[encoded data removed]",
      "text/plain": [
       "<Figure size 432x288 with 1 Axes>"
      ]
     },
     "metadata": {
      "needs_background": "light"
     },
     "output_type": "display_data"
    }
   ],
   "source": [
    "X = range(250)\n",
    "t = BinaryTree()\n",
    "Y = []\n",
    "for i in X:\n",
    "    e = worstCaseE(i+1)\n",
    "    r = RegisterUser(e,\"p\")\n",
    "    t.insertUser(r)\n",
    "    t.post_order()\n",
    "    Y.append(t.contE)\n",
    "    t.contE = 0\n",
    "plt.xlabel(\"Numero de nodos\")\n",
    "plt.ylabel(\"Longitud de la pila de llamadas\")\n",
    "plt.plot(X,Y)"
   ]
  },
  {
   "cell_type": "markdown",
   "metadata": {},
   "source": [
    "## Mejor y caso promedio."
   ]
  },
  {
   "cell_type": "code",
   "execution_count": 39,
   "metadata": {},
   "outputs": [
    {
     "data": {
      "text/plain": [
       "[<matplotlib.lines.Line2D at 0x27ea2f78a60>]"
      ]
     },
     "execution_count": 39,
     "metadata": {},
     "output_type": "execute_result"
    },
    {
     "data": {
      "image/png": "[encoded data removed]",
      "text/plain": [
       "<Figure size 432x288 with 1 Axes>"
      ]
     },
     "metadata": {
      "needs_background": "light"
     },
     "output_type": "display_data"
    }
   ],
   "source": [
    "X = range(250)\n",
    "Y = []\n",
    "t = BinaryTree()\n",
    "users = db.getUsers()\n",
    "for i in X:\n",
    "    t.insertUser(users[i])\n",
    "    t.post_order()\n",
    "    Y.append(t.contE)\n",
    "    t.contE = 0\n",
    "plt.plot(X,Y)"
   ]
  }
 ],
 "metadata": {
  "kernelspec": {
   "display_name": "Python 3.9.12 ('base')",
   "language": "python",
   "name": "python3"
  },
  "language_info": {
   "codemirror_mode": {
    "name": "ipython",
    "version": 3
   },
   "file_extension": ".py",
   "mimetype": "text/x-python",
   "name": "python",
   "nbconvert_exporter": "python",
   "pygments_lexer": "ipython3",
   "version": "3.9.12"
  },
  "orig_nbformat": 4,
  "vscode": {
   "interpreter": {
    "hash": "ad2bdc8ecc057115af97d19610ffacc2b4e99fae6737bb82f5d7fb13d2f2c186"
   }
  }
 },
 "nbformat": 4,
 "nbformat_minor": 2
}
