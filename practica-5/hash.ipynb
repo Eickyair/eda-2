{
 "cells": [
  {
   "cell_type": "code",
   "execution_count": 2,
   "metadata": {},
   "outputs": [
    {
     "name": "stdout",
     "output_type": "stream",
     "text": [
      "317513255\n"
     ]
    }
   ],
   "source": [
    "\n",
    "\n",
    "\n",
    "\n",
    "  \n",
    " \n",
    "def criba():\n",
    "    i=2\n",
    "    cri = [0 for _ in range(256)]\n",
    "    while i < 256:\n",
    "        if not cri[i]:\n",
    "            mult = i\n",
    "            while mult <= 255:\n",
    "                mult+=i\n",
    "                if mult <= 255:\n",
    "                    cri[mult]= i\n",
    "        i+=1\n",
    "    return cri\n",
    "\n",
    "def descomponerPrimos(entero,cri):\n",
    "    # print(cri[entero])\n",
    "    primos = []\n",
    "    while cri[entero] != 0:\n",
    "        # print(\"cri:\",cri[entero])\n",
    "        primo = cri[entero]\n",
    "        primos.append(primo)\n",
    "        entero = entero // primo\n",
    "        # print(\"ent:\",entero)\n",
    "    primos.append(entero)\n",
    "    return primos\n",
    "\n",
    "def countingSort(listaEnteros):                 \n",
    "    i=0                                                                                          \n",
    "    C = [0 for _ in range(max(listaEnteros)+1)]              \n",
    "    while i < len(listaEnteros):                               \n",
    "        C[listaEnteros[i]] = C[listaEnteros[i]] + 1                    \n",
    "        i+=1                                                                               \n",
    "    i=1                                                     \n",
    "    while i<len(C):                                         \n",
    "        C[i]=C[i]+C[i-1]                                              \n",
    "        i+=1                                                             \n",
    "    i=0                                                                                         \n",
    "    B = [0 for _ in range(len(listaEnteros))]                  \n",
    "    while i < len(listaEnteros):                                                \n",
    "        B[C[listaEnteros[i]]-1]=listaEnteros[i]                 \n",
    "        C[listaEnteros[i]]=C[listaEnteros[i]]-1                   \n",
    "        i+=1                                               \n",
    "    return B    \n",
    "def intListToStr(intList):\n",
    "    conv = \"\"\n",
    "    i = 0\n",
    "    while i < len(intList):\n",
    "        c = str(intList[i])\n",
    "        # print(c)\n",
    "        conv+=c\n",
    "        i+=1\n",
    "    return conv\n",
    "\n",
    "\n",
    "\n",
    "\n",
    "def hash(cadena:str):\n",
    "    cri = criba()\n",
    "    has = \"\"\n",
    "    for c in cadena:\n",
    "        c = ord(c)\n",
    "        # print(c)\n",
    "        primos = countingSort(descomponerPrimos(c,cri))\n",
    "        # print(primos)\n",
    "        primos = intListToStr(primos)\n",
    "        # print(primos)\n",
    "        has+= primos\n",
    "    return has\n",
    "\n",
    "print(hash(\"3A2\"))\n"
   ]
  },
  {
   "cell_type": "code",
   "execution_count": null,
   "metadata": {},
   "outputs": [],
   "source": []
  }
 ],
 "metadata": {
  "kernelspec": {
   "display_name": "Python 3.9.12 ('base')",
   "language": "python",
   "name": "python3"
  },
  "language_info": {
   "codemirror_mode": {
    "name": "ipython",
    "version": 3
   },
   "file_extension": ".py",
   "mimetype": "text/x-python",
   "name": "python",
   "nbconvert_exporter": "python",
   "pygments_lexer": "ipython3",
   "version": "3.9.12"
  },
  "orig_nbformat": 4,
  "vscode": {
   "interpreter": {
    "hash": "ad2bdc8ecc057115af97d19610ffacc2b4e99fae6737bb82f5d7fb13d2f2c186"
   }
  }
 },
 "nbformat": 4,
 "nbformat_minor": 2
}
